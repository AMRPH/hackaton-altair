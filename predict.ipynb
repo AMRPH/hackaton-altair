{
 "cells": [
  {
   "cell_type": "code",
   "execution_count": null,
   "metadata": {},
   "outputs": [],
   "source": [
    "import pandas as pd\n",
    "import numpy as np\n",
    "from sklearn.model_selection import train_test_split\n",
    "from sklearn.ensemble import RandomForestClassifier\n",
    "from sklearn.metrics import f1_score\n",
    "from catboost import CatBoostClassifier, Pool\n",
    "import pickle\n",
    "\n",
    "pd.set_option('display.max_rows', 500)\n",
    "pd.set_option('display.max_columns', 500)"
   ]
  },
  {
   "cell_type": "code",
   "execution_count": null,
   "metadata": {},
   "outputs": [],
   "source": [
    "dataset = np.load('dataset_train_prepared.npy')\n",
    "dataset.shape"
   ]
  },
  {
   "cell_type": "code",
   "execution_count": null,
   "metadata": {},
   "outputs": [],
   "source": [
    "X = dataset[:, :257]\n",
    "y = dataset[:, 257:258].ravel()\n",
    "\n",
    "rf_model = pickle.load(open('models/rf_model.pkl', 'rb'))\n",
    "cb_model = pickle.load(open('models/cb_model.pkl', 'rb'))\n",
    "\n",
    "y_pred_rf = rf_model.predict(X)\n",
    "\n",
    "print(f1_score(y, y_pred_rf))\n",
    "\n",
    "y_pred_cb = cb_model.predict(Pool(data=X, baseline=y_pred_rf))\n",
    "\n",
    "print(f1_score(y, y_pred_cb))"
   ]
  }
 ],
 "metadata": {
  "kernelspec": {
   "display_name": "Python 3",
   "language": "python",
   "name": "python3"
  },
  "language_info": {
   "codemirror_mode": {
    "name": "ipython",
    "version": 3
   },
   "file_extension": ".py",
   "mimetype": "text/x-python",
   "name": "python",
   "nbconvert_exporter": "python",
   "pygments_lexer": "ipython3",
   "version": "3.11.5"
  }
 },
 "nbformat": 4,
 "nbformat_minor": 2
}
