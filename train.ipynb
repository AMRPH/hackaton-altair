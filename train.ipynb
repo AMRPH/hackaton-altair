{
 "cells": [
  {
   "cell_type": "code",
   "execution_count": null,
   "metadata": {},
   "outputs": [],
   "source": [
    "import pandas as pd\n",
    "import numpy as np\n",
    "from sklearn.model_selection import train_test_split\n",
    "from sklearn.ensemble import RandomForestClassifier\n",
    "from sklearn.metrics import f1_score\n",
    "\n",
    "pd.set_option('display.max_rows', 500)\n",
    "pd.set_option('display.max_columns', 500)"
   ]
  },
  {
   "cell_type": "code",
   "execution_count": null,
   "metadata": {},
   "outputs": [],
   "source": [
    "dataset_prepared = np.load('dataset_train_prepared.npy')\n",
    "dataset_prepared.shape"
   ]
  },
  {
   "cell_type": "code",
   "execution_count": null,
   "metadata": {},
   "outputs": [],
   "source": [
    "dataset_X = dataset_prepared[:, :257]\n",
    "dataset_y = dataset_prepared[:, 257:258].ravel()\n",
    "\n",
    "seed = 52\n",
    "\n",
    "X_train, X_test, y_train, y_test = train_test_split(dataset_X, dataset_y, test_size=0.1, random_state=seed)\n",
    "\n",
    "rf_model = RandomForestClassifier(n_estimators=500,\n",
    "                                  criterion='entropy', \n",
    "                                  max_features=34,\n",
    "                                  n_jobs=-1, \n",
    "                                  bootstrap=True,\n",
    "                                  random_state=seed)\n",
    "rf_model.fit(X_train, y_train)\n",
    "\n",
    "rf_y_pred_train = rf_model.predict(X_train)\n",
    "rf_y_pred_test = rf_model.predict(X_test)\n",
    "\n",
    "print(f1_score(y_test, rf_y_pred_test))\n"
   ]
  },
  {
   "cell_type": "code",
   "execution_count": null,
   "metadata": {},
   "outputs": [],
   "source": [
    "from catboost import CatBoostClassifier, Pool\n",
    "\n",
    "cb_dataset_train = Pool(data=X_train, label=y_train, baseline=rf_y_pred_train)\n",
    "cb_dataset_test = Pool(data=X_test, label=y_test, baseline=rf_y_pred_test)\n",
    "\n",
    "cb_model = CatBoostClassifier(iterations=400, learning_rate=0.03, grow_policy='Depthwise', random_seed=seed)\n",
    "\n",
    "cb_model.fit(\n",
    "    X=cb_dataset_train,\n",
    "    eval_set=cb_dataset_test,\n",
    "    use_best_model=True,\n",
    "    plot=True\n",
    ")\n",
    "\n",
    "y_pred = cb_model.predict(Pool(data=X_test, baseline=rf_y_pred_test))\n",
    "\n",
    "print(f1_score(y_test, y_pred))"
   ]
  },
  {
   "cell_type": "code",
   "execution_count": null,
   "metadata": {},
   "outputs": [],
   "source": [
    "import pickle\n",
    "# 0.873\n",
    "pickle.dump(rf_model, open('models/rf_model.pkl', 'wb'), protocol=4)\n",
    "pickle.dump(cb_model, open('models/cb_model.pkl', 'wb'), protocol=4)"
   ]
  }
 ],
 "metadata": {
  "kernelspec": {
   "display_name": "Python 3",
   "language": "python",
   "name": "python3"
  },
  "language_info": {
   "codemirror_mode": {
    "name": "ipython",
    "version": 3
   },
   "file_extension": ".py",
   "mimetype": "text/x-python",
   "name": "python",
   "nbconvert_exporter": "python",
   "pygments_lexer": "ipython3",
   "version": "3.11.5"
  }
 },
 "nbformat": 4,
 "nbformat_minor": 2
}
